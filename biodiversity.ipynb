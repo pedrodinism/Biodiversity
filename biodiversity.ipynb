{
 "cells": [
  {
   "cell_type": "code",
   "execution_count": 53,
   "metadata": {},
   "outputs": [
    {
     "name": "stdout",
     "output_type": "stream",
     "text": [
      "            scientific_name                            park_name  observations\n",
      "0        Vicia benghalensis  Great Smoky Mountains National Park            68\n",
      "1            Neovison vison  Great Smoky Mountains National Park            77\n",
      "2         Prunus subcordata               Yosemite National Park           138\n",
      "3      Abutilon theophrasti                  Bryce National Park            84\n",
      "4  Githopsis specularioides  Great Smoky Mountains National Park            85\n",
      "  category                scientific_name  \\\n",
      "0   Mammal  Clethrionomys gapperi gapperi   \n",
      "1   Mammal                      Bos bison   \n",
      "2   Mammal                     Bos taurus   \n",
      "3   Mammal                     Ovis aries   \n",
      "4   Mammal                 Cervus elaphus   \n",
      "\n",
      "                                        common_names conservation_status  \n",
      "0                           Gapper's Red-Backed Vole                 NaN  \n",
      "1                              American Bison, Bison                 NaN  \n",
      "2  Aurochs, Aurochs, Domestic Cattle (Feral), Dom...                 NaN  \n",
      "3  Domestic Sheep, Mouflon, Red Sheep, Sheep (Feral)                 NaN  \n",
      "4                                      Wapiti Or Elk                 NaN  \n",
      "scientific_name    23296\n",
      "park_name          23296\n",
      "observations       23296\n",
      "dtype: int64\n",
      "category               5824\n",
      "scientific_name        5824\n",
      "common_names           5824\n",
      "conservation_status     191\n",
      "dtype: int64\n",
      "The least observed species is Cucurbita pepo\n"
     ]
    }
   ],
   "source": [
    "## Show the total number of observations per species\n",
    "## Which species has less observations?\n",
    "## Which species has more observations?\n",
    "## Fill the conservation status of the species\n",
    "## Show the number of species in each conservation_status\n",
    "\n",
    "import pandas as pd\n",
    "\n",
    "obs = pd.read_csv('observations.csv')\n",
    "species = pd.read_csv('species_info.csv')\n",
    "\n",
    "print(obs.head())\n",
    "print(species.head())\n",
    "\n",
    "print(obs.count())\n",
    "print(species.count())"
   ]
  },
  {
   "cell_type": "code",
   "execution_count": 83,
   "metadata": {},
   "outputs": [
    {
     "name": "stdout",
     "output_type": "stream",
     "text": [
      "            scientific_name  observations\n",
      "4993  Streptopelia decaocto          1785\n",
      "2452         Holcus lanatus          1780\n",
      "1103      Castor canadensis          1725\n",
      "2555   Hypochaeris radicata          1720\n",
      "4179          Puma concolor          1711\n"
     ]
    }
   ],
   "source": [
    "## Show the total number of observations per species\n",
    "\n",
    "obs_grouped = obs.groupby('scientific_name', as_index=False)['observations'].sum()\n",
    "obs_grouped_sorted = obs_grouped.sort_values('observations', ascending=False)\n",
    "\n",
    "print(obs_grouped_sorted.head())\n"
   ]
  },
  {
   "cell_type": "code",
   "execution_count": 85,
   "metadata": {},
   "outputs": [
    {
     "name": "stdout",
     "output_type": "stream",
     "text": [
      "The species with less observations is Grus americana with 131 views.\n"
     ]
    }
   ],
   "source": [
    "## Which species has less observations?\n",
    "\n",
    "less_viewed_species = obs_grouped_sorted['scientific_name'].iloc[-1]\n",
    "less_views = obs_grouped_sorted['observations'].iloc[-1]\n",
    "print('The species with less observations is ' + less_viewed_species + ' with ' + str(less_views) + ' views.')"
   ]
  },
  {
   "cell_type": "code",
   "execution_count": 89,
   "metadata": {},
   "outputs": [
    {
     "name": "stdout",
     "output_type": "stream",
     "text": [
      "The species with less observations is Streptopelia decaocto with 1785 views.\n"
     ]
    }
   ],
   "source": [
    "## Which species has more observations?\n",
    "\n",
    "most_viewed_species = obs_grouped_sorted['scientific_name'].iloc[0]\n",
    "most_views = obs_grouped_sorted['observations'].iloc[0]\n",
    "print('The species with less observations is ' + most_viewed_species + ' with ' + str(most_views) + ' views.')"
   ]
  },
  {
   "cell_type": "code",
   "execution_count": 129,
   "metadata": {},
   "outputs": [
    {
     "name": "stdout",
     "output_type": "stream",
     "text": [
      "283\n",
      "281\n",
      "     category scientific_name        common_names conservation_status\n",
      "4      Mammal  Cervus elaphus       Wapiti Or Elk                 NaN\n",
      "3017   Mammal  Cervus elaphus  Rocky Mountain Elk                 NaN\n"
     ]
    }
   ],
   "source": [
    "## Fill the conservation status of the species\n",
    "merged_df = pd.merge(obs_grouped_sorted, species, on='scientific_name', how='inner')\n",
    "\n",
    "##print(merged_df.head())\n",
    "\n",
    "##print(obs_grouped_sorted[obs_grouped_sorted.duplicated(subset=['scientific_name'])])\n",
    "print(species.duplicated(subset=['scientific_name']).sum())\n",
    "print(species.duplicated(subset=['scientific_name','conservation_status']).sum())\n",
    "\n",
    "print(species[species['scientific_name']=='Cervus elaphus'])"
   ]
  }
 ],
 "metadata": {
  "kernelspec": {
   "display_name": "Python 3 (ipykernel)",
   "language": "python",
   "name": "python3"
  },
  "language_info": {
   "codemirror_mode": {
    "name": "ipython",
    "version": 3
   },
   "file_extension": ".py",
   "mimetype": "text/x-python",
   "name": "python",
   "nbconvert_exporter": "python",
   "pygments_lexer": "ipython3",
   "version": "3.12.4"
  }
 },
 "nbformat": 4,
 "nbformat_minor": 4
}
